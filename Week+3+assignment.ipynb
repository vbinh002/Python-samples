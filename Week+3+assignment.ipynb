{
 "cells": [
  {
   "cell_type": "markdown",
   "metadata": {},
   "source": [
    "# Question 2"
   ]
  },
  {
   "cell_type": "code",
   "execution_count": 105,
   "metadata": {},
   "outputs": [
    {
     "name": "stdout",
     "output_type": "stream",
     "text": [
      "[[0 4 4]\n",
      " [0 0 7]\n",
      " [1 3 6]]\n",
      "[ 0.33333333  2.33333333  5.66666667]\n",
      "[1 4 7]\n",
      "[0 0 4]\n"
     ]
    }
   ],
   "source": [
    "import numpy as np\n",
    "m= np.random.randint(0, 10, size=(3,3))\n",
    "print(m)\n",
    "print(m.mean(axis = 0))\n",
    "print(m.max(axis = 0))\n",
    "print(m.min(axis = 0))"
   ]
  },
  {
   "cell_type": "markdown",
   "metadata": {},
   "source": [
    "# Question 3"
   ]
  },
  {
   "cell_type": "code",
   "execution_count": 15,
   "metadata": {},
   "outputs": [
    {
     "name": "stdout",
     "output_type": "stream",
     "text": [
      "[[ 24 -79 -34]\n",
      " [-41  78 -45]\n",
      " [ 79  89  33]]\n",
      "[ 20.66666667  29.33333333 -15.33333333]\n",
      "[79 89 33]\n",
      "[-41 -79 -45]\n"
     ]
    }
   ],
   "source": [
    "n= np.random.randint(-100, 100, size=(3,3))\n",
    "print(n)\n",
    "print(n.mean(axis = 0))\n",
    "print(n.max(axis = 0))\n",
    "print(n.min(axis = 0))"
   ]
  },
  {
   "cell_type": "code",
   "execution_count": 17,
   "metadata": {},
   "outputs": [
    {
     "name": "stdout",
     "output_type": "stream",
     "text": [
      "[[ 7 -5]\n",
      " [-1  8]]\n"
     ]
    }
   ],
   "source": [
    "p= np.random.randint(-10, 10, size=(2,2))\n",
    "print(p)"
   ]
  },
  {
   "cell_type": "markdown",
   "metadata": {},
   "source": [
    "# Question 4\n",
    "\n",
    "Write a python script to randomly generate a 2D array 10 x 8 of float values on interval [-10, 10].\n",
    "\n",
    "And then, get a float number from user and find its closest values in the array.\n",
    "SOME GUIDES: \n",
    "i) use argmin() function for your problem: https://docs.scipy.org/doc/numpy/reference/generated/numpy.argmin.html;\n",
    "Or reshape to 1D, subtract array to value and sort. \n",
    "Optional: If you passed the above problem, extend it to find 3 closest values in the array.\n"
   ]
  },
  {
   "cell_type": "code",
   "execution_count": 26,
   "metadata": {},
   "outputs": [
    {
     "data": {
      "text/plain": [
       "array([[  9,   2,  -4,  -5,  -2,   2,  -3,  -2],\n",
       "       [ -9,   6,  -5,   0,   3,   7,   8,   1],\n",
       "       [ -8,   3,   7,   0,   6,  -9,  -1,  -2],\n",
       "       [  8,  -4,  -5,  -3,   1,  -9,   2,   0],\n",
       "       [  1, -10,  -2,  -4,   1,  -4,   3,   8],\n",
       "       [ -1,   3,  -2,   1,  -6,  -7, -10,  -9],\n",
       "       [  6,  -9,  -3,   6,  -8,   1,   8,  -9],\n",
       "       [ -6,  -3,  -1,   4,   1,   2,   0,  -1],\n",
       "       [ -3,  -3,   0,  -3,  -2,   8,  -6,  -3],\n",
       "       [ -8,   5,  -2,   1,   2,  -5,  -7,   0]])"
      ]
     },
     "execution_count": 26,
     "metadata": {},
     "output_type": "execute_result"
    }
   ],
   "source": [
    "ab= np.random.randint(-10.0,10.0, size=(10, 8))\n",
    "ab"
   ]
  },
  {
   "cell_type": "code",
   "execution_count": 27,
   "metadata": {},
   "outputs": [
    {
     "data": {
      "text/plain": [
       "array([[  9,   2,  -4,  -5,  -2,   2,  -3,  -2,  -9,   6,  -5,   0,   3,\n",
       "          7,   8,   1,  -8,   3,   7,   0,   6,  -9,  -1,  -2,   8,  -4,\n",
       "         -5,  -3,   1,  -9,   2,   0,   1, -10,  -2,  -4,   1,  -4,   3,\n",
       "          8,  -1,   3,  -2,   1,  -6,  -7, -10,  -9,   6,  -9,  -3,   6,\n",
       "         -8,   1,   8,  -9,  -6,  -3,  -1,   4,   1,   2,   0,  -1,  -3,\n",
       "         -3,   0,  -3,  -2,   8,  -6,  -3,  -8,   5,  -2,   1,   2,  -5,\n",
       "         -7,   0]])"
      ]
     },
     "execution_count": 27,
     "metadata": {},
     "output_type": "execute_result"
    }
   ],
   "source": [
    "ab.reshape(1,80)\n"
   ]
  },
  {
   "cell_type": "code",
   "execution_count": 31,
   "metadata": {},
   "outputs": [
    {
     "name": "stdout",
     "output_type": "stream",
     "text": [
      "None\n"
     ]
    }
   ],
   "source": [
    "ab1 = ab.sort()\n",
    "print(ab1)"
   ]
  },
  {
   "cell_type": "markdown",
   "metadata": {},
   "source": [
    "# Question5\n",
    "Read the following financial function to more understand about numpy: https://docs.scipy.org/doc/numpy/reference/routines.financial.html. For each function, give a example and try it.\n"
   ]
  },
  {
   "cell_type": "markdown",
   "metadata": {},
   "source": [
    "#Compute the future value.\n",
    "numpy.fv(rate, nper, pmt, pv, when='end')"
   ]
  },
  {
   "cell_type": "code",
   "execution_count": 37,
   "metadata": {},
   "outputs": [
    {
     "data": {
      "text/plain": [
       "15692.928894335748"
      ]
     },
     "execution_count": 37,
     "metadata": {},
     "output_type": "execute_result"
    }
   ],
   "source": [
    "#Examples\n",
    "\n",
    "#What is the future value after 10 years of saving $100 now, with an additional monthly savings of $100. \n",
    "#Assume the interest rate is 5% (annually) compounded monthly?\n",
    "np.fv(0.05/12, 10*12, -100, -100)"
   ]
  },
  {
   "cell_type": "markdown",
   "metadata": {},
   "source": [
    "#ADDITIONAL PART\n",
    "\n",
    "Download iris data set from here https://archive.ics.uci.edu/ml/datasets/iris, and save it to a file.\n",
    "Load data of the downloaded file into a 2D array of numbers where 3 types of flowers is mapped to vector (1 = Setosa, 2=Versicolour, 3=Virginica). \n",
    "GUIDE: use loadtxt() or genfromtxt() to load file content into a list of tuple, then run for loop to convert list of tuple to 1D array, then reshape it to 2D. While converting, map name of flower to number.   \n",
    "Calculate 3 covariance matrix of sepal length and sepal width for each type of flower. (see: https://docs.scipy.org/doc/numpy/reference/generated/numpy.cov.html )\n"
   ]
  },
  {
   "cell_type": "code",
   "execution_count": 110,
   "metadata": {
    "collapsed": true
   },
   "outputs": [],
   "source": [
    "import csv\n",
    "import pandas as pd\n",
    "iris = pd.read_csv('https://archive.ics.uci.edu/ml/machine-learning-databases/iris/iris.data')"
   ]
  },
  {
   "cell_type": "code",
   "execution_count": 111,
   "metadata": {},
   "outputs": [
    {
     "data": {
      "text/html": [
       "<div>\n",
       "<style>\n",
       "    .dataframe thead tr:only-child th {\n",
       "        text-align: right;\n",
       "    }\n",
       "\n",
       "    .dataframe thead th {\n",
       "        text-align: left;\n",
       "    }\n",
       "\n",
       "    .dataframe tbody tr th {\n",
       "        vertical-align: top;\n",
       "    }\n",
       "</style>\n",
       "<table border=\"1\" class=\"dataframe\">\n",
       "  <thead>\n",
       "    <tr style=\"text-align: right;\">\n",
       "      <th></th>\n",
       "      <th>5.1</th>\n",
       "      <th>3.5</th>\n",
       "      <th>1.4</th>\n",
       "      <th>0.2</th>\n",
       "      <th>Iris-setosa</th>\n",
       "    </tr>\n",
       "  </thead>\n",
       "  <tbody>\n",
       "    <tr>\n",
       "      <th>0</th>\n",
       "      <td>4.9</td>\n",
       "      <td>3.0</td>\n",
       "      <td>1.4</td>\n",
       "      <td>0.2</td>\n",
       "      <td>Iris-setosa</td>\n",
       "    </tr>\n",
       "    <tr>\n",
       "      <th>1</th>\n",
       "      <td>4.7</td>\n",
       "      <td>3.2</td>\n",
       "      <td>1.3</td>\n",
       "      <td>0.2</td>\n",
       "      <td>Iris-setosa</td>\n",
       "    </tr>\n",
       "    <tr>\n",
       "      <th>2</th>\n",
       "      <td>4.6</td>\n",
       "      <td>3.1</td>\n",
       "      <td>1.5</td>\n",
       "      <td>0.2</td>\n",
       "      <td>Iris-setosa</td>\n",
       "    </tr>\n",
       "    <tr>\n",
       "      <th>3</th>\n",
       "      <td>5.0</td>\n",
       "      <td>3.6</td>\n",
       "      <td>1.4</td>\n",
       "      <td>0.2</td>\n",
       "      <td>Iris-setosa</td>\n",
       "    </tr>\n",
       "    <tr>\n",
       "      <th>4</th>\n",
       "      <td>5.4</td>\n",
       "      <td>3.9</td>\n",
       "      <td>1.7</td>\n",
       "      <td>0.4</td>\n",
       "      <td>Iris-setosa</td>\n",
       "    </tr>\n",
       "    <tr>\n",
       "      <th>5</th>\n",
       "      <td>4.6</td>\n",
       "      <td>3.4</td>\n",
       "      <td>1.4</td>\n",
       "      <td>0.3</td>\n",
       "      <td>Iris-setosa</td>\n",
       "    </tr>\n",
       "    <tr>\n",
       "      <th>6</th>\n",
       "      <td>5.0</td>\n",
       "      <td>3.4</td>\n",
       "      <td>1.5</td>\n",
       "      <td>0.2</td>\n",
       "      <td>Iris-setosa</td>\n",
       "    </tr>\n",
       "    <tr>\n",
       "      <th>7</th>\n",
       "      <td>4.4</td>\n",
       "      <td>2.9</td>\n",
       "      <td>1.4</td>\n",
       "      <td>0.2</td>\n",
       "      <td>Iris-setosa</td>\n",
       "    </tr>\n",
       "    <tr>\n",
       "      <th>8</th>\n",
       "      <td>4.9</td>\n",
       "      <td>3.1</td>\n",
       "      <td>1.5</td>\n",
       "      <td>0.1</td>\n",
       "      <td>Iris-setosa</td>\n",
       "    </tr>\n",
       "    <tr>\n",
       "      <th>9</th>\n",
       "      <td>5.4</td>\n",
       "      <td>3.7</td>\n",
       "      <td>1.5</td>\n",
       "      <td>0.2</td>\n",
       "      <td>Iris-setosa</td>\n",
       "    </tr>\n",
       "  </tbody>\n",
       "</table>\n",
       "</div>"
      ],
      "text/plain": [
       "   5.1  3.5  1.4  0.2  Iris-setosa\n",
       "0  4.9  3.0  1.4  0.2  Iris-setosa\n",
       "1  4.7  3.2  1.3  0.2  Iris-setosa\n",
       "2  4.6  3.1  1.5  0.2  Iris-setosa\n",
       "3  5.0  3.6  1.4  0.2  Iris-setosa\n",
       "4  5.4  3.9  1.7  0.4  Iris-setosa\n",
       "5  4.6  3.4  1.4  0.3  Iris-setosa\n",
       "6  5.0  3.4  1.5  0.2  Iris-setosa\n",
       "7  4.4  2.9  1.4  0.2  Iris-setosa\n",
       "8  4.9  3.1  1.5  0.1  Iris-setosa\n",
       "9  5.4  3.7  1.5  0.2  Iris-setosa"
      ]
     },
     "execution_count": 111,
     "metadata": {},
     "output_type": "execute_result"
    }
   ],
   "source": [
    "iris.head(10)"
   ]
  },
  {
   "cell_type": "code",
   "execution_count": 94,
   "metadata": {},
   "outputs": [
    {
     "data": {
      "text/plain": [
       "5.1                    4.9\n",
       "3.5                      3\n",
       "1.4                    1.4\n",
       "0.2                    0.2\n",
       "Iris-setosa    Iris-setosa\n",
       "Name: 0, dtype: object"
      ]
     },
     "execution_count": 94,
     "metadata": {},
     "output_type": "execute_result"
    }
   ],
   "source": [
    "row_0 = iris.iloc[0]\n",
    "row_0"
   ]
  },
  {
   "cell_type": "code",
   "execution_count": 95,
   "metadata": {},
   "outputs": [
    {
     "data": {
      "text/plain": [
       "Index(['5.1', '3.5', '1.4', '0.2', 'Iris-setosa'], dtype='object')"
      ]
     },
     "execution_count": 95,
     "metadata": {},
     "output_type": "execute_result"
    }
   ],
   "source": [
    "row_0.index"
   ]
  },
  {
   "cell_type": "code",
   "execution_count": 97,
   "metadata": {},
   "outputs": [
    {
     "data": {
      "text/plain": [
       "(149, 5)"
      ]
     },
     "execution_count": 97,
     "metadata": {},
     "output_type": "execute_result"
    }
   ],
   "source": [
    "iris.shape"
   ]
  },
  {
   "cell_type": "code",
   "execution_count": null,
   "metadata": {},
   "outputs": [],
   "source": [
    "\n",
    "\n"
   ]
  },
  {
   "cell_type": "code",
   "execution_count": null,
   "metadata": {},
   "outputs": [],
   "source": [
    "\n"
   ]
  },
  {
   "cell_type": "code",
   "execution_count": null,
   "metadata": {
    "collapsed": true
   },
   "outputs": [],
   "source": []
  }
 ],
 "metadata": {
  "kernelspec": {
   "display_name": "Python 3",
   "language": "python",
   "name": "python3"
  },
  "language_info": {
   "codemirror_mode": {
    "name": "ipython",
    "version": 3
   },
   "file_extension": ".py",
   "mimetype": "text/x-python",
   "name": "python",
   "nbconvert_exporter": "python",
   "pygments_lexer": "ipython3",
   "version": "3.6.3"
  }
 },
 "nbformat": 4,
 "nbformat_minor": 2
}
